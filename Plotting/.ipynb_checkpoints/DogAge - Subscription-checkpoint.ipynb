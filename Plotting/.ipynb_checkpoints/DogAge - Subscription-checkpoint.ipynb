{
 "cells": [
  {
   "cell_type": "code",
   "execution_count": 2,
   "id": "5eb3c209",
   "metadata": {},
   "outputs": [],
   "source": [
    "######################## DOG AGE VERSUS SUBSCRIPTION RATE ##################################\n",
    "import matplotlib as plt\n",
    "import pandas as pd\n",
    "import numpy as num\n",
    "%matplotlib inline    "
   ]
  },
  {
   "cell_type": "code",
   "execution_count": 3,
   "id": "bd148da7",
   "metadata": {},
   "outputs": [
    {
     "name": "stdout",
     "output_type": "stream",
     "text": [
      "       Unnamed: 0                                Dog ID  \\\n",
      "0               0  fd27b272-7144-11e5-ba71-058fbc01cf0b   \n",
      "1               1  fd27b5ba-7144-11e5-ba71-058fbc01cf0b   \n",
      "2               2  fd27b6b4-7144-11e5-ba71-058fbc01cf0b   \n",
      "3               3  fd27b79a-7144-11e5-ba71-058fbc01cf0b   \n",
      "4               4  fd27b86c-7144-11e5-ba71-058fbc01cf0b   \n",
      "...           ...                                   ...   \n",
      "17981       17981  fdc235e0-7144-11e5-ba71-058fbc01cf0b   \n",
      "17982       17982  fdc23a68-7144-11e5-ba71-058fbc01cf0b   \n",
      "17983       17983  fdc23ba8-7144-11e5-ba71-058fbc01cf0b   \n",
      "17984       17984  fdc23e96-7144-11e5-ba71-058fbc01cf0b   \n",
      "17985       17985  fdc2417a-7144-11e5-ba71-058fbc01cf0b   \n",
      "\n",
      "       Total Tests Completed  Mean ITI (days)  Mean ITI (minutes)  \\\n",
      "0                         21        28.201076        40609.549167   \n",
      "1                         20         0.413307          595.162281   \n",
      "2                          2         0.009132           13.150000   \n",
      "3                         11        56.115179        80805.858333   \n",
      "4                         31         7.734254        11137.326111   \n",
      "...                      ...              ...                 ...   \n",
      "17981                      7         0.009408           13.547222   \n",
      "17982                      1              NaN                 NaN   \n",
      "17983                     20         0.004957            7.137719   \n",
      "17984                      4         0.002948            4.244444   \n",
      "17985                      6         0.004012            5.776667   \n",
      "\n",
      "       Median ITI (days)  Median ITI (minutes)  \\\n",
      "0               0.004687              6.750000   \n",
      "1               0.005845              8.416667   \n",
      "2               0.009132             13.150000   \n",
      "3               0.004433              6.383333   \n",
      "4               0.000399              0.575000   \n",
      "...                  ...                   ...   \n",
      "17981           0.004786              6.891667   \n",
      "17982                NaN                   NaN   \n",
      "17983           0.004201              6.050000   \n",
      "17984           0.002778              4.000000   \n",
      "17985           0.003032              4.366667   \n",
      "\n",
      "       Time diff between first and last game (days)  \\\n",
      "0                                        564.021516   \n",
      "1                                          7.852836   \n",
      "2                                          0.009132   \n",
      "3                                        561.151794   \n",
      "4                                        232.027627   \n",
      "...                                             ...   \n",
      "17981                                      0.056447   \n",
      "17982                                      0.000000   \n",
      "17983                                      0.094178   \n",
      "17984                                      0.008843   \n",
      "17985                                      0.020058   \n",
      "\n",
      "       Time diff between first and last game (minutes)  \\\n",
      "0                                        812190.983333   \n",
      "1                                         11308.083333   \n",
      "2                                            13.150000   \n",
      "3                                        808058.583333   \n",
      "4                                        334119.783333   \n",
      "...                                                ...   \n",
      "17981                                        81.283333   \n",
      "17982                                         0.000000   \n",
      "17983                                       135.616667   \n",
      "17984                                        12.733333   \n",
      "17985                                        28.883333   \n",
      "\n",
      "                                    User ID  ... Membership_ID  Subscribed  \\\n",
      "0      ce134e42-7144-11e5-ba71-058fbc01cf0b  ...           2.0         1.0   \n",
      "1      ce1353d8-7144-11e5-ba71-058fbc01cf0b  ...           1.0         1.0   \n",
      "2      ce135ab8-7144-11e5-ba71-058fbc01cf0b  ...           1.0         1.0   \n",
      "3      ce13507c-7144-11e5-ba71-058fbc01cf0b  ...           1.0         1.0   \n",
      "4      ce135e14-7144-11e5-ba71-058fbc01cf0b  ...           2.0         1.0   \n",
      "...                                     ...  ...           ...         ...   \n",
      "17981  ce9b2aba-7144-11e5-ba71-058fbc01cf0b  ...          10.0         0.0   \n",
      "17982  ce9b2eb6-7144-11e5-ba71-058fbc01cf0b  ...           9.0         0.0   \n",
      "17983  ce9b306e-7144-11e5-ba71-058fbc01cf0b  ...          10.0         1.0   \n",
      "17984  ce9b33b6-7144-11e5-ba71-058fbc01cf0b  ...           9.0         0.0   \n",
      "17985  ce9b35e6-7144-11e5-ba71-058fbc01cf0b  ...          10.0         1.0   \n",
      "\n",
      "                 City State    Zip  Country  Exclude  Free_Start_User  \\\n",
      "0         Grand Forks    ND  58201       US        0                0   \n",
      "1               Barre    MA  01005       US        0                0   \n",
      "2              Darien    CT  06820       US        0                0   \n",
      "3            Winnetka    IL  60093       US        0                0   \n",
      "4             Raleigh    NC  27606       US        1                0   \n",
      "...               ...   ...    ...      ...      ...              ...   \n",
      "17981             NaN   NaN    NaN      NaN        0                0   \n",
      "17982             NaN   NaN    NaN      NaN        0                1   \n",
      "17983  Carolina Beach    NC  28428       US        0                0   \n",
      "17984             NaN   NaN    NaN      NaN        0                1   \n",
      "17985             NaN   NaN    NaN      NaN        0                0   \n",
      "\n",
      "            Last_Active_At  Membership_Type  \n",
      "0      2015-03-12 00:25:00                2  \n",
      "1                 00:00:00                1  \n",
      "2                 00:00:00                1  \n",
      "3      2014-09-12 19:26:00                1  \n",
      "4                 00:00:00                2  \n",
      "...                    ...              ...  \n",
      "17981  2015-10-12 14:44:00                1  \n",
      "17982  2015-10-12 20:43:00                4  \n",
      "17983  2015-10-12 20:13:00                1  \n",
      "17984  2015-10-12 19:17:00                4  \n",
      "17985  2015-10-12 20:49:00                1  \n",
      "\n",
      "[17986 rows x 31 columns]\n"
     ]
    }
   ],
   "source": [
    "path = \"/Users/yarkingazi/Desktop/Dognition_Project/Cleaned Dognition Data.csv\"\n",
    "data = pd.read_csv(path)\n",
    "print(data)    "
   ]
  },
  {
   "cell_type": "code",
   "execution_count": 4,
   "id": "3e4114c8",
   "metadata": {},
   "outputs": [
    {
     "name": "stdout",
     "output_type": "stream",
     "text": [
      "Number of unique values in column \"Birthday\" of the dataframe : \n",
      "26\n"
     ]
    }
   ],
   "source": [
    "uniqueValues = data['Birthday'].nunique()\n",
    "print('Number of unique values in column \"Birthday\" of the dataframe : ')\n",
    "print(uniqueValues)\n",
    "##I wanted to have a look at the range of the ages among dogs."
   ]
  },
  {
   "cell_type": "code",
   "execution_count": 6,
   "id": "91b66f8c",
   "metadata": {},
   "outputs": [
    {
     "name": "stdout",
     "output_type": "stream",
     "text": [
      "0        2011.0\n",
      "1        2007.0\n",
      "2        2012.0\n",
      "3        2011.0\n",
      "4        2010.0\n",
      "          ...  \n",
      "17981    2012.0\n",
      "17982    2014.0\n",
      "17983    2008.0\n",
      "17984    2011.0\n",
      "17985    2005.0\n",
      "Name: Birthday, Length: 17986, dtype: float64\n"
     ]
    }
   ],
   "source": [
    "dataframe0 = pd.read_csv(\"/Users/yarkingazi/Desktop/Dognition_Project/Cleaned Dognition Data.csv\") \n",
    "dataframe1 = pd.DataFrame(dataframe0)\n",
    "print(dataframe0['Birthday'])\n"
   ]
  },
  {
   "cell_type": "code",
   "execution_count": 7,
   "id": "8b45a7ec",
   "metadata": {},
   "outputs": [
    {
     "name": "stdout",
     "output_type": "stream",
     "text": [
      "Birthday\n",
      "1982.0       1.0\n",
      "1983.0       5.0\n",
      "1984.0       0.0\n",
      "1991.0       0.0\n",
      "1992.0       0.0\n",
      "1994.0       1.0\n",
      "1996.0       1.0\n",
      "1997.0       5.0\n",
      "1998.0       4.0\n",
      "1999.0      14.0\n",
      "2000.0      34.0\n",
      "2001.0      61.0\n",
      "2002.0     106.0\n",
      "2003.0     167.0\n",
      "2004.0     298.0\n",
      "2005.0     382.0\n",
      "2006.0     499.0\n",
      "2007.0     589.0\n",
      "2008.0     718.0\n",
      "2009.0     899.0\n",
      "2010.0    1025.0\n",
      "2011.0    1172.0\n",
      "2012.0    1452.0\n",
      "2013.0    1241.0\n",
      "2014.0     829.0\n",
      "2015.0     373.0\n",
      "Name: Subscribed, dtype: float64\n"
     ]
    }
   ],
   "source": [
    "  dataframe2 = dataframe0.groupby('Birthday')['Subscribed'].sum()\n",
    "  print(dataframe2)\n",
    "##We can observe that older dog owners are actually not the majority among those who subscribed."
   ]
  },
  {
   "cell_type": "code",
   "execution_count": 8,
   "id": "2c03acbf",
   "metadata": {},
   "outputs": [
    {
     "data": {
      "text/plain": [
       "<AxesSubplot:xlabel='Birthday'>"
      ]
     },
     "execution_count": 8,
     "metadata": {},
     "output_type": "execute_result"
    },
    {
     "data": {
      "image/png": "[encoded data removed]",
      "text/plain": [
       "<Figure size 432x288 with 1 Axes>"
      ]
     },
     "metadata": {
      "needs_background": "light"
     },
     "output_type": "display_data"
    }
   ],
   "source": [
    " \n",
    "# plotting the points\n",
    "dataframe2.plot(kind='bar',x='name',y='age')\n",
    "\n"
   ]
  },
  {
   "cell_type": "code",
   "execution_count": null,
   "id": "cfc032d2",
   "metadata": {},
   "outputs": [],
   "source": []
  }
 ],
 "metadata": {
  "kernelspec": {
   "display_name": "Python 3 (ipykernel)",
   "language": "python",
   "name": "python3"
  },
  "language_info": {
   "codemirror_mode": {
    "name": "ipython",
    "version": 3
   },
   "file_extension": ".py",
   "mimetype": "text/x-python",
   "name": "python",
   "nbconvert_exporter": "python",
   "pygments_lexer": "ipython3",
   "version": "3.8.5"
  }
 },
 "nbformat": 4,
 "nbformat_minor": 5
}
