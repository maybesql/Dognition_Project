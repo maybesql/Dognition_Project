{
 "cells": [
  {
   "cell_type": "code",
   "execution_count": 1,
   "id": "acac4999",
   "metadata": {},
   "outputs": [],
   "source": [
    "######################## CITY VERSUS SUBSCRIPTION RATE ##################################\n",
    "\n",
    "import pandas as pd\n",
    "import numpy as num\n",
    "import matplotlib.pyplot as plt\n",
    "%matplotlib inline "
   ]
  },
  {
   "cell_type": "code",
   "execution_count": 5,
   "id": "3bd2f759",
   "metadata": {},
   "outputs": [
    {
     "name": "stdout",
     "output_type": "stream",
     "text": [
      "       Unnamed: 0                                Dog ID  \\\n",
      "0               0  fd27b272-7144-11e5-ba71-058fbc01cf0b   \n",
      "1               1  fd27b5ba-7144-11e5-ba71-058fbc01cf0b   \n",
      "2               2  fd27b6b4-7144-11e5-ba71-058fbc01cf0b   \n",
      "3               3  fd27b79a-7144-11e5-ba71-058fbc01cf0b   \n",
      "4               4  fd27b86c-7144-11e5-ba71-058fbc01cf0b   \n",
      "...           ...                                   ...   \n",
      "17981       17981  fdc235e0-7144-11e5-ba71-058fbc01cf0b   \n",
      "17982       17982  fdc23a68-7144-11e5-ba71-058fbc01cf0b   \n",
      "17983       17983  fdc23ba8-7144-11e5-ba71-058fbc01cf0b   \n",
      "17984       17984  fdc23e96-7144-11e5-ba71-058fbc01cf0b   \n",
      "17985       17985  fdc2417a-7144-11e5-ba71-058fbc01cf0b   \n",
      "\n",
      "       Total Tests Completed  Mean ITI (days)  Mean ITI (minutes)  \\\n",
      "0                         21        28.201076        40609.549167   \n",
      "1                         20         0.413307          595.162281   \n",
      "2                          2         0.009132           13.150000   \n",
      "3                         11        56.115179        80805.858333   \n",
      "4                         31         7.734254        11137.326111   \n",
      "...                      ...              ...                 ...   \n",
      "17981                      7         0.009408           13.547222   \n",
      "17982                      1              NaN                 NaN   \n",
      "17983                     20         0.004957            7.137719   \n",
      "17984                      4         0.002948            4.244444   \n",
      "17985                      6         0.004012            5.776667   \n",
      "\n",
      "       Median ITI (days)  Median ITI (minutes)  \\\n",
      "0               0.004687              6.750000   \n",
      "1               0.005845              8.416667   \n",
      "2               0.009132             13.150000   \n",
      "3               0.004433              6.383333   \n",
      "4               0.000399              0.575000   \n",
      "...                  ...                   ...   \n",
      "17981           0.004786              6.891667   \n",
      "17982                NaN                   NaN   \n",
      "17983           0.004201              6.050000   \n",
      "17984           0.002778              4.000000   \n",
      "17985           0.003032              4.366667   \n",
      "\n",
      "       Time diff between first and last game (days)  \\\n",
      "0                                        564.021516   \n",
      "1                                          7.852836   \n",
      "2                                          0.009132   \n",
      "3                                        561.151794   \n",
      "4                                        232.027627   \n",
      "...                                             ...   \n",
      "17981                                      0.056447   \n",
      "17982                                      0.000000   \n",
      "17983                                      0.094178   \n",
      "17984                                      0.008843   \n",
      "17985                                      0.020058   \n",
      "\n",
      "       Time diff between first and last game (minutes)  \\\n",
      "0                                        812190.983333   \n",
      "1                                         11308.083333   \n",
      "2                                            13.150000   \n",
      "3                                        808058.583333   \n",
      "4                                        334119.783333   \n",
      "...                                                ...   \n",
      "17981                                        81.283333   \n",
      "17982                                         0.000000   \n",
      "17983                                       135.616667   \n",
      "17984                                        12.733333   \n",
      "17985                                        28.883333   \n",
      "\n",
      "                                    User ID  ... Membership_ID  Subscribed  \\\n",
      "0      ce134e42-7144-11e5-ba71-058fbc01cf0b  ...           2.0         1.0   \n",
      "1      ce1353d8-7144-11e5-ba71-058fbc01cf0b  ...           1.0         1.0   \n",
      "2      ce135ab8-7144-11e5-ba71-058fbc01cf0b  ...           1.0         1.0   \n",
      "3      ce13507c-7144-11e5-ba71-058fbc01cf0b  ...           1.0         1.0   \n",
      "4      ce135e14-7144-11e5-ba71-058fbc01cf0b  ...           2.0         1.0   \n",
      "...                                     ...  ...           ...         ...   \n",
      "17981  ce9b2aba-7144-11e5-ba71-058fbc01cf0b  ...          10.0         0.0   \n",
      "17982  ce9b2eb6-7144-11e5-ba71-058fbc01cf0b  ...           9.0         0.0   \n",
      "17983  ce9b306e-7144-11e5-ba71-058fbc01cf0b  ...          10.0         1.0   \n",
      "17984  ce9b33b6-7144-11e5-ba71-058fbc01cf0b  ...           9.0         0.0   \n",
      "17985  ce9b35e6-7144-11e5-ba71-058fbc01cf0b  ...          10.0         1.0   \n",
      "\n",
      "                 City State    Zip  Country  Exclude  Free_Start_User  \\\n",
      "0         Grand Forks    ND  58201       US        0                0   \n",
      "1               Barre    MA  01005       US        0                0   \n",
      "2              Darien    CT  06820       US        0                0   \n",
      "3            Winnetka    IL  60093       US        0                0   \n",
      "4             Raleigh    NC  27606       US        1                0   \n",
      "...               ...   ...    ...      ...      ...              ...   \n",
      "17981             NaN   NaN    NaN      NaN        0                0   \n",
      "17982             NaN   NaN    NaN      NaN        0                1   \n",
      "17983  Carolina Beach    NC  28428       US        0                0   \n",
      "17984             NaN   NaN    NaN      NaN        0                1   \n",
      "17985             NaN   NaN    NaN      NaN        0                0   \n",
      "\n",
      "            Last_Active_At  Membership_Type  \n",
      "0      2015-03-12 00:25:00                2  \n",
      "1                 00:00:00                1  \n",
      "2                 00:00:00                1  \n",
      "3      2014-09-12 19:26:00                1  \n",
      "4                 00:00:00                2  \n",
      "...                    ...              ...  \n",
      "17981  2015-10-12 14:44:00                1  \n",
      "17982  2015-10-12 20:43:00                4  \n",
      "17983  2015-10-12 20:13:00                1  \n",
      "17984  2015-10-12 19:17:00                4  \n",
      "17985  2015-10-12 20:49:00                1  \n",
      "\n",
      "[17986 rows x 31 columns]\n"
     ]
    }
   ],
   "source": [
    "path = \"/Users/yarkingazi/Desktop/Dognition_Project/Cleaned Dognition Data.csv\"\n",
    "data = pd.read_csv(path)\n",
    "print(data) "
   ]
  },
  {
   "cell_type": "code",
   "execution_count": 6,
   "id": "32a2bb18",
   "metadata": {},
   "outputs": [
    {
     "name": "stdout",
     "output_type": "stream",
     "text": [
      "Number of unique values in column \"City\" of the dataframe : \n",
      "3398\n"
     ]
    }
   ],
   "source": [
    "uniqueValues = data['City'].nunique()\n",
    "print('Number of unique values in column \"City\" of the dataframe : ')\n",
    "print(uniqueValues)\n",
    "##I wanted to have a look at the number of the cities among all."
   ]
  },
  {
   "cell_type": "code",
   "execution_count": 8,
   "id": "ddd5d798",
   "metadata": {},
   "outputs": [
    {
     "name": "stdout",
     "output_type": "stream",
     "text": [
      "0           Grand Forks\n",
      "1                 Barre\n",
      "2                Darien\n",
      "3              Winnetka\n",
      "4               Raleigh\n",
      "              ...      \n",
      "17981               NaN\n",
      "17982               NaN\n",
      "17983    Carolina Beach\n",
      "17984               NaN\n",
      "17985               NaN\n",
      "Name: City, Length: 17986, dtype: object\n"
     ]
    }
   ],
   "source": [
    "dataframe0 = pd.read_csv(\"/Users/yarkingazi/Desktop/Dognition_Project/Cleaned Dognition Data.csv\") \n",
    "dataframe1 = pd.DataFrame(dataframe0)\n",
    "print(dataframe0['City'])\n"
   ]
  },
  {
   "cell_type": "code",
   "execution_count": 9,
   "id": "23d99666",
   "metadata": {},
   "outputs": [
    {
     "name": "stdout",
     "output_type": "stream",
     "text": [
      "City\n",
      "New York         132.0\n",
      "Chicago           99.0\n",
      "Raleigh           90.0\n",
      "Los Angeles       81.0\n",
      "Seattle           80.0\n",
      "San Diego         79.0\n",
      "Austin            71.0\n",
      "Durham            63.0\n",
      "Washington        60.0\n",
      "San Francisco     58.0\n",
      "Houston           57.0\n",
      "Denver            53.0\n",
      "Portland          53.0\n",
      "Toronto           51.0\n",
      "Brooklyn          44.0\n",
      "Name: Subscribed, dtype: float64\n"
     ]
    }
   ],
   "source": [
    "dataframe2 = dataframe1.groupby('City')['Subscribed'].sum().nlargest(15,'first')\n",
    "\n",
    "print(dataframe2)"
   ]
  },
  {
   "cell_type": "code",
   "execution_count": 10,
   "id": "89dfc62d",
   "metadata": {},
   "outputs": [
    {
     "data": {
      "image/png": "[encoded data removed]",
      "text/plain": [
       "<Figure size 432x288 with 1 Axes>"
      ]
     },
     "metadata": {
      "needs_background": "light"
     },
     "output_type": "display_data"
    }
   ],
   "source": [
    "plt.plot(dataframe2)\n",
    "plt.xticks(rotation=35)\n",
    "plt.show()\n",
    "\n",
    "###Below figure says that most subscribers are from New York. And the most subscribers\n",
    "###are the cities can be seen in the x-axis."
   ]
  },
  {
   "cell_type": "code",
   "execution_count": null,
   "id": "c03747e1",
   "metadata": {},
   "outputs": [],
   "source": []
  }
 ],
 "metadata": {
  "kernelspec": {
   "display_name": "Python 3 (ipykernel)",
   "language": "python",
   "name": "python3"
  },
  "language_info": {
   "codemirror_mode": {
    "name": "ipython",
    "version": 3
   },
   "file_extension": ".py",
   "mimetype": "text/x-python",
   "name": "python",
   "nbconvert_exporter": "python",
   "pygments_lexer": "ipython3",
   "version": "3.8.5"
  }
 },
 "nbformat": 4,
 "nbformat_minor": 5
}
